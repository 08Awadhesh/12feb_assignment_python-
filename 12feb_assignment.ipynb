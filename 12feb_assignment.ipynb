{
 "cells": [
  {
   "cell_type": "markdown",
   "id": "6f496fcb-5d7a-44dc-bde3-ed183ad249e7",
   "metadata": {},
   "source": [
    "**Q1.** What is an Exception in pythn ? What is the difference between expception and syntax error?\n",
    "**Answer:** -\n",
    "\n",
    "**Exception**:-Errors detected during execution are called exceptions and are not unconditionally fatal.\n",
    "\n",
    "**Difference between exception and syntax error**-\n",
    "An error is an issue in a program that prevents the program from completing its task. In comparison, an exception is a condition that interrupts the normal flow of the program. Both errors and exceptions are a type of runtime error, which means they occur during the execution of a program."
   ]
  },
  {
   "cell_type": "markdown",
   "id": "c840d1bb-a427-4d5a-a2df-d7990942c913",
   "metadata": {},
   "source": [
    "**Q2**.What happens when expection is not handelled ? expalin with an example "
   ]
  },
  {
   "cell_type": "markdown",
   "id": "4289fb16-9616-42cd-84d7-bfa0b1c984d7",
   "metadata": {},
   "source": [
    "**Q3.** Which python statements are used to catch and handel expcetions ? Explain with an example.\n",
    "**Answer**- The try and except block in Python is used to catch and handle exceptions. Python executes code following the try statement as a “normal” part of the program. The code that follows the except statement is the program's response to any exceptions in the preceding try clause."
   ]
  },
  {
   "cell_type": "code",
   "execution_count": 1,
   "id": "c0fdd81a-bca3-4b78-a780-b6ce1fea65f9",
   "metadata": {},
   "outputs": [
    {
     "name": "stdout",
     "output_type": "stream",
     "text": [
      "there is some error with my code [Errno 2] No such file or directory: 'test2.txt'\n",
      "this is my print\n"
     ]
    },
    {
     "data": {
      "text/plain": [
       "10"
      ]
     },
     "execution_count": 1,
     "metadata": {},
     "output_type": "execute_result"
    }
   ],
   "source": [
    "##Example\n",
    "try:\n",
    "    f=open(\"test2.txt\",'r')\n",
    "except Exception as e :\n",
    "    print(\"there is some error with my code\",e)\n",
    "print(\"this is my print\")\n",
    "a=10\n",
    "a"
   ]
  },
  {
   "cell_type": "markdown",
   "id": "a9522aa9-78cb-4218-b446-313aa3a6d15b",
   "metadata": {},
   "source": [
    "**Q4**.Explain with an example.\n",
    "\n",
    "Answer .(a)"
   ]
  },
  {
   "cell_type": "code",
   "execution_count": 3,
   "id": "0c1b785e-cd6f-47c5-b9a0-5c9b9302adf9",
   "metadata": {},
   "outputs": [
    {
     "name": "stdout",
     "output_type": "stream",
     "text": [
      "this block will execute once try will execute itself without an exception\n"
     ]
    }
   ],
   "source": [
    "try:\n",
    "    f = open(\"test.txt\" , 'w')\n",
    "    f.write(\"this is my msg\")\n",
    "\n",
    "except Exception as e :\n",
    "    print(\"there is some issue with my code \", e)\n",
    "else : \n",
    "        f.close()\n",
    "        print(\"this block will execute once try will execute itself without an exception\")"
   ]
  },
  {
   "cell_type": "markdown",
   "id": "f502d464-0c02-4219-b5db-e94bb54cfbaa",
   "metadata": {},
   "source": [
    "Answer(b)"
   ]
  },
  {
   "cell_type": "code",
   "execution_count": 5,
   "id": "2c1d248d-7b56-4711-83c1-85278837494f",
   "metadata": {},
   "outputs": [
    {
     "name": "stdout",
     "output_type": "stream",
     "text": [
      "this will always excute\n"
     ]
    }
   ],
   "source": [
    "try:\n",
    "    f=open(\"text11.txt\",'w')\n",
    "    f.write(\"this is my msg\")\n",
    "finally:\n",
    "    print(\"this will always excute\")"
   ]
  },
  {
   "cell_type": "markdown",
   "id": "99967dd6-6b68-4da2-abcc-f4e3ad2bf21c",
   "metadata": {},
   "source": [
    "Answer(c):"
   ]
  },
  {
   "cell_type": "code",
   "execution_count": 6,
   "id": "1a854697-20c7-44c6-97a3-a4d22740526c",
   "metadata": {},
   "outputs": [],
   "source": [
    "class postive_num(Exception):\n",
    "    def __init__(self,msg):\n",
    "        self.msg=msg\n",
    "    "
   ]
  },
  {
   "cell_type": "code",
   "execution_count": 10,
   "id": "aa72df7c-2395-43c5-9844-7bfa1b0e6cd6",
   "metadata": {},
   "outputs": [],
   "source": [
    "def postivenum(num):\n",
    "    if num >0:\n",
    "        raise postive_num(\"this is a postive number\")\n",
    "    elif num==0:\n",
    "        raise postive_num(\"this is a non negative number\")\n",
    "    else: \n",
    "        print(\"this is a negative number\")"
   ]
  },
  {
   "cell_type": "code",
   "execution_count": 11,
   "id": "1a5f243f-f6f5-47c5-910b-a8c4281dddbd",
   "metadata": {},
   "outputs": [
    {
     "name": "stdin",
     "output_type": "stream",
     "text": [
      "Enter a number: 0\n"
     ]
    },
    {
     "name": "stdout",
     "output_type": "stream",
     "text": [
      "this is a non negative number\n"
     ]
    }
   ],
   "source": [
    "try:\n",
    "    num=int(input(\"Enter a number:\"))\n",
    "    postivenum(num)\n",
    "except postive_num as e:\n",
    "    print(e)\n",
    "    "
   ]
  },
  {
   "cell_type": "markdown",
   "id": "f8bd318d-3cd3-49e8-b49b-075ae7fa9605",
   "metadata": {},
   "source": [
    "**Q5** What are custom exceptions in python ? Why do we need custom exceptions? Explain with an example ?\n",
    "\n",
    "**Answer**-Having custom exceptions - tailored to our specific use cases and that we can raise and catch in specific circumstances - can make our code much more readable and robust, and reduce the amount of code we write later to try and figure out what exactly went wrong"
   ]
  },
  {
   "cell_type": "markdown",
   "id": "57c483d2-69c8-4a72-8696-ede38d2048be",
   "metadata": {},
   "source": [
    "**Example**-"
   ]
  },
  {
   "cell_type": "code",
   "execution_count": 12,
   "id": "10963259-3aee-41ff-8bfb-25b16d73841f",
   "metadata": {},
   "outputs": [
    {
     "name": "stdin",
     "output_type": "stream",
     "text": [
      "Enter a number: -78\n"
     ]
    },
    {
     "name": "stdout",
     "output_type": "stream",
     "text": [
      "this is a negative number\n"
     ]
    }
   ],
   "source": [
    "class postive_num(Exception):\n",
    "    def __init__(self,msg):\n",
    "        self.msg=msg\n",
    "def postivenum(num):\n",
    "    if num >0:\n",
    "        raise postive_num(\"this is a postive number\")\n",
    "    elif num==0:\n",
    "        raise postive_num(\"this is a non negative number\")\n",
    "    else: \n",
    "        print(\"this is a negative number\")        \n",
    "try:\n",
    "    num=int(input(\"Enter a number:\"))\n",
    "    postivenum(num)\n",
    "except postive_num as e:\n",
    "    print(e)"
   ]
  },
  {
   "cell_type": "markdown",
   "id": "a76a7674-f3ad-4418-b9d0-1cb3bfa67d3a",
   "metadata": {},
   "source": [
    "**Q6**- Create a custom exception class. Ues this class to handel an exception."
   ]
  },
  {
   "cell_type": "markdown",
   "id": "4816f08c-17fa-41a8-85cc-5a915e9e0d3a",
   "metadata": {},
   "source": [
    "**Answer**-"
   ]
  },
  {
   "cell_type": "code",
   "execution_count": 19,
   "id": "419b72e6-3d7c-4dde-b10f-3aad291c33a2",
   "metadata": {},
   "outputs": [
    {
     "name": "stdin",
     "output_type": "stream",
     "text": [
      "Enter growth rate in percent 0\n"
     ]
    },
    {
     "name": "stdout",
     "output_type": "stream",
     "text": [
      "You need to improve\n"
     ]
    }
   ],
   "source": [
    "class growth_rate(Exception):\n",
    "    def __init__(self,msg):\n",
    "        self.msg=msg\n",
    "def growthrate(percent):\n",
    "    if percent<0:\n",
    "        raise growth_rate(\"this is not acceptable \")\n",
    "    elif percent==0:\n",
    "        raise growth_rate(\"You need to improve\")\n",
    "    else:\n",
    "        print(\"You are working fine\")\n",
    "try:\n",
    "    percent=int(input(\"Enter growth rate in percent\"))\n",
    "    growthrate(percent)\n",
    "except growth_rate as e:\n",
    "    print(e)\n",
    "        \n",
    "        "
   ]
  },
  {
   "cell_type": "code",
   "execution_count": null,
   "id": "e17ea889-cdf6-42e0-9dbe-ae6936c6fc6d",
   "metadata": {},
   "outputs": [],
   "source": []
  }
 ],
 "metadata": {
  "kernelspec": {
   "display_name": "Python 3 (ipykernel)",
   "language": "python",
   "name": "python3"
  },
  "language_info": {
   "codemirror_mode": {
    "name": "ipython",
    "version": 3
   },
   "file_extension": ".py",
   "mimetype": "text/x-python",
   "name": "python",
   "nbconvert_exporter": "python",
   "pygments_lexer": "ipython3",
   "version": "3.10.8"
  }
 },
 "nbformat": 4,
 "nbformat_minor": 5
}
